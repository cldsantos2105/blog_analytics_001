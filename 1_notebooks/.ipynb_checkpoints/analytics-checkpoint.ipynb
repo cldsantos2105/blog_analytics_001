{
 "cells": [
  {
   "cell_type": "code",
   "execution_count": 1,
   "metadata": {},
   "outputs": [
    {
     "data": {
      "text/html": [
       "<style>.container { width:100% !important; }</style>"
      ],
      "text/plain": [
       "<IPython.core.display.HTML object>"
      ]
     },
     "metadata": {},
     "output_type": "display_data"
    }
   ],
   "source": [
    "from IPython.core.display import display, HTML\n",
    "display(HTML(\"<style>.container { width:100% !important; }</style>\"))"
   ]
  },
  {
   "cell_type": "markdown",
   "metadata": {},
   "source": [
    "# Blog Analytics Notebook"
   ]
  },
  {
   "cell_type": "code",
   "execution_count": 2,
   "metadata": {},
   "outputs": [],
   "source": [
    "import json\n",
    "from collections import Counter"
   ]
  },
  {
   "cell_type": "code",
   "execution_count": 3,
   "metadata": {},
   "outputs": [],
   "source": [
    "with open('data/articles.json', 'r') as f:\n",
    "    articles_store = json.loads(f.read())"
   ]
  },
  {
   "cell_type": "code",
   "execution_count": 4,
   "metadata": {},
   "outputs": [],
   "source": [
    "times = []\n",
    "months = []\n",
    "weekdays = []\n",
    "authors = []\n",
    "categories = []\n",
    "\n",
    "for article in articles_store:\n",
    "    \n",
    "    # Average Reading Time\n",
    "    times.append(article['reading_time'])\n",
    "    average_time = sum(times) / float(len(times))\n",
    "    average_time = round(average_time, 2)\n",
    "    \n",
    "    # Posts by Month\n",
    "    months.append(article['month'])\n",
    "    month_count = Counter(months)\n",
    "    \n",
    "    # Posts by Weekday\n",
    "    weekdays.append(article['weekday'])\n",
    "    weekday_count = Counter(weekdays)\n",
    "    \n",
    "    # Count by Category\n",
    "    categories += article['categories']\n",
    "    category_count = Counter(categories)\n",
    "    \n",
    "    # Count by Author\n",
    "    authors.append(article['author'])\n",
    "    author_count = Counter(authors)"
   ]
  },
  {
   "cell_type": "code",
   "execution_count": 5,
   "metadata": {},
   "outputs": [
    {
     "name": "stdout",
     "output_type": "stream",
     "text": [
      "Average reading time: 14.61\n",
      "Posts by month Counter({'August': 59, 'October': 49, 'September': 46, 'April': 45, 'July': 44, 'June': 42, 'May': 42, 'March': 37, 'November': 36, 'January': 36, 'February': 32, 'December': 30})\n",
      "Posts by weekday Counter({'Monday': 279, 'Thursday': 84, 'Wednesday': 72, 'Tuesday': 44, 'Friday': 19})\n",
      "Posts by category Counter({'workflow': 86, 'made in frame': 79, 'editing': 72, 'behind the scenes': 54, 'color': 45, 'art of the cut': 45, 'career': 40, 'production': 39, 'technology': 38, 'davinci resolve': 34, 'interviews': 34, 'post-production': 33, 'premiere pro': 33, 'final cut pro': 31, 'vfx and mograph': 28, 'workflow process': 27, 'business': 18, 'directing': 18, 'cinematography': 14, 'conform': 13, 'storytelling': 12, 'sound': 11, 'announcements': 11, 'avid': 7, 'enterprise': 7, 'sales & marketing': 7, 'design': 6, 'general business': 4, 'op-ed': 4, 'frame.io enterprise': 3, 'nles': 2, 'cribs': 2, 'enterprise solutions': 2, 'frame.io news': 1})\n",
      "Posts by author Counter({'Lisa McNamara': 100, 'Steve Hullfish': 51, 'Ron Dawson': 24, 'Michael Cioni': 20, 'Ben Bailey': 18, 'Dan Swierenga': 17, 'Cullen Kelly': 17, 'Alexander Huls': 16, 'Mark Christiansen': 15, 'Patrick Southern': 14, 'Sofi Marshall': 13, 'Jason Boone': 13, 'Stephen Heleker': 12, 'Laurence Grayson': 10, 'David Kong': 8, 'Robert Loughlin': 8, 'Chris Salters': 7, 'Jarle Leirpoll': 7, 'Scott Strandberg': 7, 'Scott Squires': 6, 'Reuben Evans': 6, 'Yuri Baranovsky': 6, 'Jason Bowdach': 5, 'Bryant Frazer': 5, 'Andrew LaSane': 5, 'Clara Lehmann': 5, 'T Payton': 5, 'Zack Arnold': 5, 'Jonny Elwyn': 4, 'Emery Wells': 4, 'Christian Leithart': 4, 'Gregory Lewis': 3, 'Ryan Charles': 3, 'Jeff Hinton': 3, 'Nick Harauz': 3, 'Seth Goldin': 3, 'Hilda Saffari': 3, 'Charles Haine': 3, 'Eric Escobar': 3, 'Octave Zangs': 2, 'Brian Levin': 2, 'Noah Kadner': 2, 'Zach Prichard': 2, 'Richard Starkey': 2, 'Jes Zurell': 2, 'Alexis Van Hurkman': 2, 'Aaron Zake': 1, 'Katie Hinsen': 1, 'Richard Kronenberg': 1, 'Josh Short': 1, 'Misha Tenenbaum': 1, 'Kris Ramsey': 1, 'Jon Collins': 1, 'Ben Haslup': 1, 'Michael Chaskes': 1, 'Jeanna French': 1, 'Joe Hood': 1, 'Jacob Holiday': 1, 'Niki Smith': 1, 'Mike Clum': 1, 'Rob Hardy': 1, 'Ashraf Meer': 1, 'Bruno Munger': 1, 'Andy Young': 1, 'David Heuring': 1, 'Philip Hodgetts': 1, 'Robert Krueger': 1, 'Sin Cohen': 1, 'Jacqwi Campbell': 1})\n"
     ]
    }
   ],
   "source": [
    "print(\"Average reading time:\", average_time)\n",
    "print(\"Posts by month\", month_count)\n",
    "print(\"Posts by weekday\", weekday_count)\n",
    "print(\"Posts by category\", category_count)\n",
    "print(\"Posts by author\", author_count)"
   ]
  },
  {
   "cell_type": "code",
   "execution_count": 6,
   "metadata": {},
   "outputs": [],
   "source": [
    "stats = { \n",
    "    'reading_time': average_time, \n",
    "    'num_articles': len(articles_store) \n",
    "}\n",
    "\n",
    "with open('data/stats.json', 'w') as f:\n",
    "    json.dump(stats, f)\n",
    "\n",
    "with open('data/weekday.json', 'w') as f:\n",
    "    json.dump(weekday_count, f)\n",
    "    \n",
    "with open('data/month.json', 'w') as f:\n",
    "    json.dump(month_count, f)\n",
    "    \n",
    "with open('data/category.json', 'w') as f:\n",
    "    json.dump(category_count, f)\n",
    "\n",
    "with open('data/author.json', 'w') as f:\n",
    "    json.dump(author_count, f)"
   ]
  },
  {
   "cell_type": "code",
   "execution_count": null,
   "metadata": {
    "collapsed": true
   },
   "outputs": [],
   "source": []
  }
 ],
 "metadata": {
  "kernelspec": {
   "display_name": "Python 3 (ipykernel)",
   "language": "python",
   "name": "python3"
  },
  "language_info": {
   "codemirror_mode": {
    "name": "ipython",
    "version": 3
   },
   "file_extension": ".py",
   "mimetype": "text/x-python",
   "name": "python",
   "nbconvert_exporter": "python",
   "pygments_lexer": "ipython3",
   "version": "3.9.5"
  }
 },
 "nbformat": 4,
 "nbformat_minor": 2
}
